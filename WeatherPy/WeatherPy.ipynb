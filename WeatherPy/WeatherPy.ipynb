{
 "cells": [
  {
   "cell_type": "code",
   "execution_count": null,
   "metadata": {},
   "outputs": [],
   "source": [
    "import pandas as pd\n",
    "import requests\n",
    "from config import api_key\n",
    "import matplotlib.pyplot as plt"
   ]
  },
  {
   "cell_type": "code",
   "execution_count": null,
   "metadata": {},
   "outputs": [],
   "source": [
    "cityblocks_df = pd.read_csv('Resources/GeoLite2-City-Blocks-IPv6.csv')\n",
    "locations_df = pd.read_csv('Resources/GeoLite2-City-Locations-en.csv')\n",
    "# cityblocks_df= cityblocks_df.dropna()\n",
    "# locations_df= locations_df.dropna()\n",
    "# cityblocks_df"
   ]
  },
  {
   "cell_type": "code",
   "execution_count": null,
   "metadata": {},
   "outputs": [],
   "source": [
    "cityblocks_df = cityblocks_df.loc[:, ['geoname_id', 'latitude', 'longitude']]\n",
    "cityblocks_df= cityblocks_df.dropna()\n",
    "cityblocks_df"
   ]
  },
  {
   "cell_type": "code",
   "execution_count": null,
   "metadata": {},
   "outputs": [],
   "source": [
    "locations_df = locations_df.loc[:, ['city_name', 'geoname_id']]\n",
    "locations_df= locations_df.dropna()\n",
    "locations_df"
   ]
  },
  {
   "cell_type": "code",
   "execution_count": null,
   "metadata": {},
   "outputs": [],
   "source": [
    "mergedDf = locations_df.merge(cityblocks_df,on='geoname_id')\n",
    "mergedDf= mergedDf.dropna()\n",
    "mergedDf = mergedDf.drop_duplicates()\n",
    "mergedDf"
   ]
  },
  {
   "cell_type": "code",
   "execution_count": null,
   "metadata": {},
   "outputs": [],
   "source": [
    "merged500Df = mergedDf.sample(n = 500) \n",
    "merged500Df"
   ]
  },
  {
   "cell_type": "code",
   "execution_count": null,
   "metadata": {},
   "outputs": [],
   "source": [
    "merged500Df[\"Temperature\"] = \"\"\n",
    "merged500Df[\"Humidity\"] = \"\"\n",
    "merged500Df[\"Cloudiness\"] = \"\"\n",
    "merged500Df[\"Wind Speed (mph)\"] = \"\""
   ]
  },
  {
   "cell_type": "code",
   "execution_count": null,
   "metadata": {},
   "outputs": [],
   "source": [
    "mergedDf"
   ]
  },
  {
   "cell_type": "code",
   "execution_count": null,
   "metadata": {},
   "outputs": [],
   "source": [
    "base_url = \"http://api.openweathermap.org/data/2.5/weather?\"\n",
    "params = {\"key\": api_key}\n",
    "\n",
    "for index, row in merged500Df.iterrows():\n",
    "    lat = row[\"latitude\"]\n",
    "    lon = row[\"longitude\"]\n",
    "    \n",
    "    params[\"lat\"] = lat\n",
    "    params[\"lon\"] = lon\n",
    "    \n",
    "    response = requests.get(base_url,params).json()\n",
    "    \n",
    "    results = response\n",
    "    \n",
    "    try:\n",
    "        merged500Df.loc[index,\"Temperature\"] = results['main']['temp']\n",
    "        merged500Df.loc[index, \"Humidity\"] = results['main']['humidity']\n",
    "        merged500Df.loc[index, \"Cloudiness\"] = results['clouds']['all']\n",
    "        merged500Df.loc[index, \"Wind Speed (mph)\"] = results['wind']['speed']\n",
    "        \n",
    "    except(KeyError, IndexError):\n",
    "        print(\"Missing field/result... skipping.\")\n",
    "        \n",
    "    print(\"------------\")"
   ]
  },
  {
   "cell_type": "code",
   "execution_count": null,
   "metadata": {},
   "outputs": [],
   "source": [
    "merged500Df"
   ]
  }
 ],
 "metadata": {
  "kernelspec": {
   "display_name": "Python 3",
   "language": "python",
   "name": "python3"
  },
  "language_info": {
   "codemirror_mode": {
    "name": "ipython",
    "version": 3
   },
   "file_extension": ".py",
   "mimetype": "text/x-python",
   "name": "python",
   "nbconvert_exporter": "python",
   "pygments_lexer": "ipython3",
   "version": "3.7.4"
  }
 },
 "nbformat": 4,
 "nbformat_minor": 4
}
