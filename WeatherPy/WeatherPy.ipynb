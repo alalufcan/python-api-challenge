version https://git-lfs.github.com/spec/v1
oid sha256:ababc3029e97a0089d3f9b4e3647a1df7ded9fd25cf9a4512010a632fc38ec2f
size 506712
