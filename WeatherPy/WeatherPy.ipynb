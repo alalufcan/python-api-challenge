version https://git-lfs.github.com/spec/v1
oid sha256:7a8c6cbbedffadcf62c9e379c878a874d647ef1279b88200a5f019c5269dc9cd
size 513998
