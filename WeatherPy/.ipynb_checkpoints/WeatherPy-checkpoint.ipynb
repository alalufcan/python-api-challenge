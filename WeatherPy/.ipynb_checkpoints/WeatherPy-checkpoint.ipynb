version https://git-lfs.github.com/spec/v1
oid sha256:8f6bef4a7c476490dd68351e3f1caa9016f5a8aa3ad61ba8ef83b49d83f08288
size 242020
