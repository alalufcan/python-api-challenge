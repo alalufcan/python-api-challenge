version https://git-lfs.github.com/spec/v1
oid sha256:f07ab1307be4adb979282e8de91bcc4aa73a84eadeedfb28642bc01cb29bd2ed
size 506267
