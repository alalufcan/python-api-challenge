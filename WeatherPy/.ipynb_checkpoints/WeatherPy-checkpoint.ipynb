version https://git-lfs.github.com/spec/v1
oid sha256:48f345507b7f36bbe8c4b630aa2633b8d41bf705f0caaa93708d67f259b32c28
size 513998
